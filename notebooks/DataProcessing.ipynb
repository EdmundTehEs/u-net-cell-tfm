{
 "cells": [
  {
   "cell_type": "markdown",
   "id": "a8ca3fa5-2c39-43c2-8559-d52cb6391706",
   "metadata": {},
   "source": [
    "# Baseline computation\n",
    "\n",
    "For each cell (folder) in our dataset directory, this notebook computes normalization constants with which we normalize fluorescent signals and forces.\n",
    "\n",
    "### Zyxin variations\n",
    "Cells express different amounts of total zyxin. To control for this variation, we normalize zyxin intensities (and analogous for other proteins) according to \n",
    "\n",
    "$$\\hat{Z}^{\\text{cell}}(t) =  \\frac{ Z^{\\text{cell}}(t)  - \\mu^{\\text{cell}}_{\\text{out}} }{\\mu^{\\text{cell}}_{\\text{in}} - \\mu^{\\text{cell}}_{\\text{out}}} $$\n",
    "\n",
    "$\\mu^{\\text{cell}}_{\\text{out}}$ represents the mean zyxin signal measured _outside_ of the cell mask, while $\\mu^{\\text{cell}}_{\\text{in}}$ measures the average zyxin intensity within the cell.\n",
    "Averages are taken over time and space. \n",
    "\n",
    "### Force variations\n",
    "Due to slight variations in substrate preparation, the forces measured on average (averaged across all cells) will differ from dataset to dataset.\n",
    "\n",
    "To control for this, we normalize forces in each dataset by the average force exerted across all cells in that dataset. In this way, each dataset will have the same distribution of forces as expected (since they are prepared under identical conditions).\n",
    "\n",
    "$$\\hat{F}^{\\text{cell}}(t) =  \\frac{ F^{\\text{cell}}(t) }{\\mu_F^{\\text{dataset}}} $$\n",
    "\n",
    "$\\mu_F^{\\text{dataset}}$ represents the average force measured across all cells in the dataset to which \"cell\" belongs. Averages are taken over time and space. Over all our datasets, the average force is 267 Pa. Therefore, a measured force of 1 kPa will, in new units, have value ~4. We multiply these new units by 1/4 so that 1 kPa will be represented by 1 in the new units. Everywhere in the following, we report these new units as kPa. "
   ]
  },
  {
   "cell_type": "code",
   "execution_count": 1,
   "id": "7e93bae0",
   "metadata": {},
   "outputs": [
    {
     "name": "stdout",
     "output_type": "stream",
     "text": [
      "Requirement already satisfied: torch in c:\\users\\edmun\\anaconda3\\lib\\site-packages (2.7.0)\n",
      "Requirement already satisfied: torchvision in c:\\users\\edmun\\anaconda3\\lib\\site-packages (0.22.0)\n",
      "Requirement already satisfied: filelock in c:\\users\\edmun\\anaconda3\\lib\\site-packages (from torch) (3.13.1)\n",
      "Requirement already satisfied: typing-extensions>=4.10.0 in c:\\users\\edmun\\anaconda3\\lib\\site-packages (from torch) (4.11.0)\n",
      "Requirement already satisfied: sympy>=1.13.3 in c:\\users\\edmun\\anaconda3\\lib\\site-packages (from torch) (1.14.0)\n",
      "Requirement already satisfied: networkx in c:\\users\\edmun\\anaconda3\\lib\\site-packages (from torch) (3.3)\n",
      "Requirement already satisfied: jinja2 in c:\\users\\edmun\\anaconda3\\lib\\site-packages (from torch) (3.1.4)\n",
      "Requirement already satisfied: fsspec in c:\\users\\edmun\\anaconda3\\lib\\site-packages (from torch) (2024.6.1)\n",
      "Requirement already satisfied: setuptools in c:\\users\\edmun\\anaconda3\\lib\\site-packages (from torch) (75.1.0)\n",
      "Requirement already satisfied: numpy in c:\\users\\edmun\\anaconda3\\lib\\site-packages (from torchvision) (1.26.4)\n",
      "Requirement already satisfied: pillow!=8.3.*,>=5.3.0 in c:\\users\\edmun\\anaconda3\\lib\\site-packages (from torchvision) (10.4.0)\n",
      "Requirement already satisfied: mpmath<1.4,>=1.1.0 in c:\\users\\edmun\\anaconda3\\lib\\site-packages (from sympy>=1.13.3->torch) (1.3.0)\n",
      "Requirement already satisfied: MarkupSafe>=2.0 in c:\\users\\edmun\\anaconda3\\lib\\site-packages (from jinja2->torch) (2.1.3)\n"
     ]
    }
   ],
   "source": [
    "!pip install torch torchvision\n",
    "\n",
    "import matplotlib.pyplot as plt\n",
    "import numpy as np\n",
    "import os\n",
    "import pandas as pd\n",
    "import scipy.ndimage\n",
    "\n",
    "import matplotlib as mpl\n",
    "import torch\n",
    "import torchvision \n",
    "import time\n",
    "import sys\n",
    "\n",
    "root = './'\n",
    "\n",
    "if root not in sys.path: sys.path.append(root) # in root I have my utils module, from which I want to import things\n",
    "from utils.nb_utils import *\n",
    "\n",
    "%matplotlib inline"
   ]
  },
  {
   "cell_type": "markdown",
   "id": "c03a1eed",
   "metadata": {},
   "source": [
    "# Load data"
   ]
  },
  {
   "cell_type": "code",
   "execution_count": 2,
   "id": "39c06608",
   "metadata": {},
   "outputs": [
    {
     "name": "stdout",
     "output_type": "stream",
     "text": [
      "['cell_0' 'cell_1' 'cell_2' 'cell_3']\n",
      "4\n"
     ]
    }
   ],
   "source": [
    "data_root = os.path.join(root, 'data', 'ZyxAct_16kPa_small')\n",
    "subdirs = [x for x in os.listdir(data_root) if os.path.isdir(os.path.join(data_root, x)) and ('cell' in x)]\n",
    "\n",
    "print((np.asarray(subdirs)))\n",
    "print(len(subdirs))"
   ]
  },
  {
   "cell_type": "markdown",
   "id": "8f05540f",
   "metadata": {},
   "source": [
    "# Plot cells"
   ]
  },
  {
   "cell_type": "code",
   "execution_count": null,
   "id": "d7334a96",
   "metadata": {},
   "outputs": [
    {
     "name": "stdout",
     "output_type": "stream",
     "text": [
      "cell_0\n",
      "cell_1\n",
      "cell_2\n",
      "cell_3\n"
     ]
    }
   ],
   "source": [
    "fig,ax = plt.subplots(3,len(subdirs),figsize=(len(subdirs)*4, 3*4), dpi=144, constrained_layout=1)\n",
    "\n",
    "frame = 0\n",
    "channels = [6,7]\n",
    "\n",
    "for n,a in enumerate(ax.T):\n",
    "    # Each item in the folders has channel structure [Displacement X, Displacement Y, Force X, Force Y, Mask, ForceMask, Zyxin, <other protein>]. \n",
    "    print(subdirs[n])\n",
    "    im = np.load(os.path.join(data_root, subdirs[n], 'Disp_Trac_CellMask_ForceMask_Actin_%d.npy'%frame)) # has shape [7, H, W] where H, W are height and width of image\n",
    "    im_ch0 = im[6]*1. # This is zyxin\n",
    "    im_ch1 = im[7]*1. # This is other protein, where other = [actin, myosin, paxillin, mitochondria]\n",
    "    mask = im[4]!=0\n",
    "    mask = scipy.ndimage.binary_dilation(mask, iterations=20)#, structure=disk(r), iterations=1)\n",
    "    im[:, mask==0] = 0\n",
    "\n",
    "    f = im[[2,3]]\n",
    "    mag = np.linalg.norm(f, axis=0)\n",
    "    \n",
    "    a[0].imshow(im_ch0/np.max(im_ch0), origin='lower', cmap='gray', vmax=0.5)\n",
    "    a[1].imshow(im_ch1/np.max(im_ch1), origin='lower', cmap='gray', vmax=0.5)\n",
    "    \n",
    "    a[2].imshow(mag, origin='lower', cmap='inferno', vmax=2000)\n",
    "    a[2].quiver(*make_vector_field(*f, downsample=20, threshold=400), color='w', scale=1e4, width=0.003)\n",
    "    \n",
    "    a[0].text(0.02, 0.98, subdirs[n], color='w', fontsize=20, transform=a[0].transAxes, ha='left', va='top')\n",
    "    \n",
    "ax[0][0].text(-0.05, 0.5, 'Zyxin', transform=ax[0][0].transAxes, ha='right', va='center', rotation=90, fontsize=20)\n",
    "ax[1][0].text(-0.05, 0.5, 'Other\\nProtein', transform=ax[1][0].transAxes, ha='right', va='center', rotation=90, fontsize=20)\n",
    "ax[2][0].text(-0.05, 0.5, 'Force', transform=ax[2][0].transAxes, ha='right', va='center', rotation=90, fontsize=20)\n",
    "\n",
    "for a in ax.flat:\n",
    "    a.axis('off')"
   ]
  },
  {
   "cell_type": "code",
   "execution_count": null,
   "id": "68b604c2",
   "metadata": {},
   "outputs": [],
   "source": [
    "celldirs = subdirs\n",
    "\n",
    "mean_zyx = {}\n",
    "mean_act = {}\n",
    "mean_F = {}\n",
    "\n",
    "for R, Cdirs in zip([data_root], [celldirs]):\n",
    "    t0 = time.time()\n",
    "    \n",
    "    for i, cell in enumerate(Cdirs):\n",
    "        celldir = os.path.join(R, cell)\n",
    "        \n",
    "        Zavg_out = 0\n",
    "        Zavg_in = 0        \n",
    "        Zstd_out = 0\n",
    "        Zstd_in = 0\n",
    "        \n",
    "        Aavg_out = 0\n",
    "        Aavg_in = 0        \n",
    "        Astd_out = 0\n",
    "        Astd_in = 0\n",
    "        \n",
    "        Fmax = []\n",
    "        Favg = []        \n",
    "        Fstd = [] \n",
    "        F99pct = []\n",
    "        \n",
    "        z_in, z_out = [], []\n",
    "        a_in, a_out = [], []\n",
    "                \n",
    "        for t, file in enumerate(os.listdir(celldir)): # Unsorted list\n",
    "            frame = np.load(os.path.join(celldir, file))\n",
    "            act = frame[7]\n",
    "            zyxin = frame[6]\n",
    "            mask = frame[4]\n",
    "            F = np.linalg.norm(frame[[2,3]], axis=0)\n",
    "\n",
    "            Zavg_out += zyxin[mask==0].mean() / len(os.listdir(celldir)) # Average intensity outside of cell\n",
    "            Zavg_in += zyxin[mask!=0].mean()  / len(os.listdir(celldir)) # Average intensity inside of cell\n",
    "            Zstd_out += zyxin[mask==0].std() / len(os.listdir(celldir))\n",
    "            Zstd_in += zyxin[mask!=0].std()  / len(os.listdir(celldir))\n",
    "            \n",
    "            Aavg_out += act[mask==0].mean() / len(os.listdir(celldir))\n",
    "            Aavg_in += act[mask!=0].mean()  / len(os.listdir(celldir))\n",
    "            Astd_out += act[mask==0].std() / len(os.listdir(celldir))\n",
    "            Astd_in += act[mask!=0].std()  / len(os.listdir(celldir))\n",
    "            \n",
    "            Fmax.append(F.max())\n",
    "            Favg.append(F.mean())      \n",
    "            Fstd.append(F.std())\n",
    "            F99pct.append(np.quantile(F.ravel(), 0.99))\n",
    "            \n",
    "            z_out.append(zyxin[mask==0].mean())\n",
    "            z_in.append(zyxin[mask!=0].mean())\n",
    "            \n",
    "            a_out.append(act[mask==0].mean())\n",
    "            a_in.append(act[mask!=0].mean())\n",
    "\n",
    "        mean_zyx[cell] = [Zavg_out, Zavg_in, Zstd_out, Zstd_in, z_out, z_in]\n",
    "        mean_act[cell] = [Aavg_out, Aavg_in, Astd_out, Astd_in, a_out, a_in]\n",
    "        mean_F[cell] = [Fmax, Favg, Fstd, F99pct]\n",
    "        \n",
    "        print('Time for %u cell:\\t %.2f'%(i+1, time.time()-t0))"
   ]
  },
  {
   "cell_type": "code",
   "execution_count": null,
   "id": "9ed91d99",
   "metadata": {},
   "outputs": [],
   "source": [
    "df = pd.DataFrame(columns=['cell', 'zyxin_lifetime_mean_outside', 'zyxin_lifetime_mean_inside', 'actin_lifetime_mean_outside', 'actin_lifetime_mean_inside'])\n",
    "\n",
    "for n,cell in enumerate(celldirs):\n",
    "    zx_out = mean_zyx[cell][0]\n",
    "    zx_in = mean_zyx[cell][1]\n",
    "    ac_out = mean_act[cell][0]\n",
    "    ac_in = mean_act[cell][1]\n",
    "    \n",
    "    dict_append = {'cell': cell, \n",
    "                   'zyxin_lifetime_mean_outside': zx_out, # Average intensity outside of cell, averaged over entire time series\n",
    "                   'zyxin_lifetime_mean_inside': zx_in,   # Average intensity inside of cell, averaged over entire time series\n",
    "                   'actin_lifetime_mean_outside': ac_out, \n",
    "                   'actin_lifetime_mean_inside': ac_in}\n",
    "    df = df.append(dict_append, ignore_index=1)\n",
    "\n",
    "    \n",
    "if input(\"Save?\")=='save':\n",
    "    df.to_csv(os.path.join(data_root, 'cell_mean_baselines.csv'))\n",
    "\n",
    "df.head(20)"
   ]
  },
  {
   "cell_type": "markdown",
   "id": "2a3743e2-862e-470a-a3c0-8654bde08eef",
   "metadata": {},
   "source": [
    "# Plot adjusted trajectories"
   ]
  },
  {
   "cell_type": "code",
   "execution_count": null,
   "id": "e1c70a15",
   "metadata": {},
   "outputs": [],
   "source": [
    "celldirs = subdirs\n",
    "\n",
    "mean_zyx_adj = {}\n",
    "\n",
    "for R, Cdirs in zip([data_root], [celldirs]):\n",
    "    t0 = time.time()\n",
    "    \n",
    "    for i, cell in enumerate(Cdirs):\n",
    "        celldir = os.path.join(R, cell)\n",
    "                \n",
    "        zx_out = mean_zyx[cell][0]\n",
    "        zx_in = mean_zyx[cell][1]\n",
    "        \n",
    "        z_in_adj, z_out_adj = [], []\n",
    "        \n",
    "        for file in os.listdir(celldir):\n",
    "            t = int(file.split('_')[-1].split('.')[0]) # split frame index from filename\n",
    "\n",
    "            frame = np.load(os.path.join(celldir, file))\n",
    "            act = frame[7]\n",
    "            zyxin = frame[6]\n",
    "            mask = frame[4]\n",
    "            \n",
    "            zyxin -= zx_out\n",
    "            zyxin[zyxin<0] = 0\n",
    "            zyxin /= (zx_in - zx_out)\n",
    "            \n",
    "            z_out_adj.append([t, zyxin[mask==0].mean()])\n",
    "            z_in_adj.append([t, zyxin[mask!=0].mean()])\n",
    "            \n",
    "\n",
    "        mean_zyx_adj[cell] = np.asarray([z_out_adj, z_in_adj])\n",
    "        \n",
    "        print('Time for %u cell:\\t %.2f'%(i+1, time.time()-t0))"
   ]
  },
  {
   "cell_type": "code",
   "execution_count": null,
   "id": "cd17e111",
   "metadata": {},
   "outputs": [],
   "source": [
    "zyx_out_in_bycell = [[k, i] for k,i in mean_zyx_adj.items()]\n",
    "cell_names = [d[0] for d in zyx_out_in_bycell]\n",
    "\n",
    "time_bycell = np.asarray([d[1][0][:,0] for d in zyx_out_in_bycell])\n",
    "zyx_data_out = np.asarray([d[1][0][:,1] for d in zyx_out_in_bycell])\n",
    "zyx_data_in = np.asarray([d[1][1][:,1] for d in zyx_out_in_bycell])\n",
    "\n",
    "fig,ax=plt.subplots(1,1,figsize=(4,2), dpi=200)\n",
    "\n",
    "for i in range(len(cell_names)):\n",
    "    T = time_bycell[i]\n",
    "    Tsort = np.argsort(T)\n",
    "    ax.plot(T[Tsort], zyx_data_in[i][Tsort], '-', color='k', alpha=0.5) # Average value of zyxin within cell, in NORMALIZED units\n",
    "    ax.plot(T[Tsort], zyx_data_out[i][Tsort], '-', color='gray', alpha=0.5,) # Average value of zyxin outside cell, in NORMALIZED units\n",
    "    \n",
    "\n",
    "ax.plot([],[], '-', color='k', alpha=0.5, label='$ \\\\hat{Z}_{in}$') # Inside\n",
    "ax.plot([],[], '-', color='gray', alpha=0.5, label='$ \\\\hat{Z}_{out}$') # Inside\n",
    "    \n",
    "   \n",
    "ax.set_xlabel('Time')\n",
    "ax.set_ylabel('Normalized Zyx. Intensity')#\n",
    "\n",
    "ax.set_ylim(0, None)\n",
    "\n",
    "ax.legend()#=20)\n",
    "#ax.set_xlim(0,15)"
   ]
  },
  {
   "cell_type": "markdown",
   "id": "7a7d831b-6d3d-4b32-a3f0-86a074dc5a8c",
   "metadata": {},
   "source": [
    "# FORCE PLOTS"
   ]
  },
  {
   "cell_type": "code",
   "execution_count": null,
   "id": "827c611d",
   "metadata": {},
   "outputs": [],
   "source": [
    "df = pd.DataFrame(columns=['cell', 'F_lifetime_mean_avg', 'F_lifetime_max_avg', 'F_lifetime_99pct_avg'])\n",
    "\n",
    "                     \n",
    "for n,cell in enumerate(celldirs):\n",
    "    \n",
    "    dict_append = {'cell': cell, \n",
    "                   'F_lifetime_mean_avg': np.asarray(mean_F[cell][1]).mean(), \n",
    "                   'F_lifetime_max_avg': np.asarray(mean_F[cell][0]).mean(),\n",
    "                   'F_lifetime_99pct_avg': np.asarray(mean_F[cell][-1]).mean()}\n",
    "    df = df.append(dict_append, ignore_index=1)\n",
    "\n",
    "    \n",
    "\n",
    "if input(\"Save?\")=='save':\n",
    "    df.to_csv(os.path.join(data_root, 'cell_force_baselines.csv'))\n",
    "\n",
    "\n",
    "df.head(20)"
   ]
  },
  {
   "cell_type": "code",
   "execution_count": null,
   "id": "44f9714b-1fdd-4bc9-9a0a-aa4ef88c82d4",
   "metadata": {},
   "outputs": [],
   "source": [
    "df['dataset'] = df.apply(lambda x: x['cell'].split('_')[0], axis=1)"
   ]
  },
  {
   "cell_type": "code",
   "execution_count": null,
   "id": "d597967c-991a-4186-96f3-1dba0a8fafad",
   "metadata": {},
   "outputs": [],
   "source": [
    "df_dataset = df.copy()\n",
    "\n",
    "df_avgs = df.groupby('dataset').mean()\n",
    "\n",
    "cols = df_avgs.columns[:].values\n",
    "\n",
    "df_avgs.reset_index(inplace=True)\n",
    "\n",
    "groups = df_dataset.groupby('dataset')\n",
    "\n",
    "for key, group in groups:\n",
    "    x = np.repeat(df_avgs[df_avgs['dataset']==key][cols].values, \n",
    "                    len(df_dataset.loc[df_dataset['dataset']==key]),\n",
    "                    axis=0)\n",
    "    df_dataset.loc[df_dataset['dataset']==key, cols] = x\n",
    "\n",
    "\n",
    "if input(\"Save?\")=='save':\n",
    "    df_dataset.to_csv(os.path.join(data_root, 'cell_force_baselines_bydataset.csv'))\n",
    "\n",
    "\n",
    "print(df_dataset.mean())\n",
    "df_dataset.head(20)"
   ]
  }
 ],
 "metadata": {
  "kernelspec": {
   "display_name": "Python [conda env:base] *",
   "language": "python",
   "name": "conda-base-py"
  },
  "language_info": {
   "codemirror_mode": {
    "name": "ipython",
    "version": 3
   },
   "file_extension": ".py",
   "mimetype": "text/x-python",
   "name": "python",
   "nbconvert_exporter": "python",
   "pygments_lexer": "ipython3",
   "version": "3.12.7"
  }
 },
 "nbformat": 4,
 "nbformat_minor": 5
}
