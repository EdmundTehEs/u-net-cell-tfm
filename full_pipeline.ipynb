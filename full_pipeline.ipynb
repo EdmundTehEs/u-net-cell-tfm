{
 "cells": [
  {
   "cell_type": "markdown",
   "metadata": {},
   "source": [
    "# End-to-End Force Prediction\n",
    "This notebook illustrates the complete workflow starting with raw TFM images and ending with a U-Net prediction of traction forces."
   ]
  },
  {
   "cell_type": "markdown",
   "metadata": {},
   "source": [
    "## 1. TFM processing\n",
    "We first register bead images, compute displacements, calculate traction stresses and create masks."
   ]
  },
  {
   "cell_type": "code",
   "execution_count": null,
   "metadata": {},
   "outputs": [],
   "source": [
    "from TFM_main.TFM_Image_registration import TFM_Image_registration\n",
    "from TFM_main.TFM_displacement_tools import TFM_optical_flow\n",
    "from TFM_main.TFM_tools import TFM_calculation, cellmask_threshold\n",
    "import skimage.io as io, numpy as np, os"
   ]
  },
  {
   "cell_type": "code",
   "execution_count": null,
   "metadata": {},
   "outputs": [],
   "source": [
    "# Align bead stack to reference and compute optical flow\n",
    "TFM_Image_registration(flatfield_correct=False)\n",
    "TFM_optical_flow()\n",
    "# Convert displacements into traction forces\n",
    "TFM_calculation(regparam=1e-16)\n",
    "# Threshold the fluorescence channel to create masks\n",
    "cellmask, forcemask, _ = cellmask_threshold('zyxin_registered.tif', plot_figure=False)"
   ]
  },
  {
   "cell_type": "markdown",
   "metadata": {},
   "source": [
    "## 2. Convert to dataset format\n",
    "Here we combine the displacement fields, traction forces and fluorescence images into the `[ux, uy, Fx, Fy, mask, forcemask, zyxin, actin]` stack expected by `CellDataset`."
   ]
  },
  {
   "cell_type": "code",
   "execution_count": null,
   "metadata": {},
   "outputs": [],
   "source": [
    "zyx_stack = io.imread('zyxin_registered.tif')\n",
    "act_stack = io.imread('actin_registered.tif')\n",
    "os.makedirs('dataset/cell_0', exist_ok=True)\n",
    "for i in range(zyx_stack.shape[0]):\n",
    "    ux = io.imread(f'displacement_files/disp_u_{i:03d}.tif')\n",
    "    uy = io.imread(f'displacement_files/disp_v_{i:03d}.tif')\n",
    "    fx = io.imread(f'traction_files/fx_{i+1:03d}.tif')\n",
    "    fy = io.imread(f'traction_files/fy_{i+1:03d}.tif')\n",
    "    frame = np.stack([ux, uy, fx, fy, cellmask[i], forcemask[i], zyx_stack[i], act_stack[i]])\n",
    "    np.save(f'dataset/cell_0/frame_{i}.npy', frame)"
   ]
  },
  {
   "cell_type": "markdown",
   "metadata": {},
   "source": [
    "## 3. Train or load the U-Net\n",
    "After generating the `.npy` files, use `train_unet.ipynb` to train on your dataset or `load_trained_unet.ipynb` to load a pre-trained model and make predictions." 
   ]
  }
 ],
 "metadata": {
  "kernelspec": {
   "display_name": "Python 3",
   "language": "python",
   "name": "python3"
  },
  "language_info": {
   "name": "python",
   "version": "3"
  }
 },
 "nbformat": 4,
 "nbformat_minor": 4
}
